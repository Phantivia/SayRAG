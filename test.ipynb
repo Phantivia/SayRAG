{
 "cells": [
  {
   "cell_type": "code",
   "execution_count": null,
   "metadata": {},
   "outputs": [],
   "source": [
    "import os \n",
    "os.environ['VISIBLE_CUDA_DEVICES'] = \"0,\"\n",
    "from vllm import LLM, SamplingParams\n",
    "\n",
    "llm = LLM(model=\"/shared/data3/yichi9/Mistral-7B-Instruct-v0.2-sayself\", max_model_len=2048, enable_lora=False, gpu_memory_utilization=0.7 )"
   ]
  },
  {
   "cell_type": "code",
   "execution_count": null,
   "metadata": {},
   "outputs": [],
   "source": [
    "import datasets\n",
    "ds = datasets.load_dataset('/shared/data3/yichi9/FlashRAG_datasets/hotpotqa')"
   ]
  },
  {
   "cell_type": "code",
   "execution_count": null,
   "metadata": {},
   "outputs": [],
   "source": [
    "ds['validation']['question'][:10]"
   ]
  },
  {
   "cell_type": "code",
   "execution_count": null,
   "metadata": {},
   "outputs": [],
   "source": [
    "prompt = 'The director of the romantic comedy \"Big Stone Gap\" is based in what New York city?'\n",
    "outputs = llm.generate(\n",
    "    [prompt], \n",
    "    sampling_params = SamplingParams(temperature=0.8, max_tokens=1024),\n",
    ")\n",
    "\n",
    "\n",
    "for output in outputs:\n",
    "    response = output.outputs[0].text\n",
    "    print(output.outputs[0].text)"
   ]
  },
  {
   "cell_type": "code",
   "execution_count": null,
   "metadata": {},
   "outputs": [],
   "source": [
    "from pprint import pprint\n",
    "pprint(response)"
   ]
  },
  {
   "cell_type": "code",
   "execution_count": null,
   "metadata": {},
   "outputs": [],
   "source": [
    "SPLIT = \"<<<SPLIT>>>\"\n",
    "responses = []\n",
    "reflection_results = []\n",
    "for idx, response in enumerate(responses):\n",
    "    \n",
    "    ce(\"Self-reflection: \", SPLIT).replace(\"Confidence: \", SPLIT))\n",
    "    response, reflection, confience = response.split(SPLIT)\n",
    "    confidence = int(confidence.)"
   ]
  },
  {
   "cell_type": "code",
   "execution_count": null,
   "metadata": {},
   "outputs": [],
   "source": [
    "# from transformers import AutoModelForCausalLM, AutoTokenizer\n",
    "# from peft import PeftModel\n",
    "# import torch\n",
    "# import os\n",
    "# os.environ['CUDA_VISIBLE_DEVICES'] = \"0,\"\n",
    "# # 1. Load the base Mistral model\n",
    "# base_model_name = \"mistralai/Mistral-7B-Instruct-v0.2\"\n",
    "# base_model = AutoModelForCausalLM.from_pretrained(base_model_name, torch_dtype=torch.float16, device_map=\"auto\")\n",
    "# tokenizer = AutoTokenizer.from_pretrained(base_model_name)\n",
    "\n",
    "# # Add the extra token to the tokenizer\n",
    "# new_tokens = {\"<pad>\": 32000}\n",
    "# num_added_tokens = tokenizer.add_tokens(list(new_tokens.keys()))\n",
    "\n",
    "# # Resize the token embeddings of the model\n",
    "# base_model.resize_token_embeddings(len(tokenizer))\n",
    "\n",
    "# print(f\"Added {num_added_tokens} new tokens to the tokenizer\")\n",
    "\n",
    "# # 2. Load the LoRA adapter\n",
    "# lora_model_name = \"phantivia/Mistral-7B-Instruct-v0.2-sayself\"\n",
    "# lora_model = PeftModel.from_pretrained(base_model, lora_model_name)\n",
    "\n",
    "# # 3. Merge the LoRA weights with the base model\n",
    "# merged_model = lora_model.merge_and_unload()\n",
    "\n",
    "# # Save the merged model\n",
    "# output_dir = \"/shared/data3/yichi9/Mistral-7B-Instruct-v0.2-sayself\"\n",
    "# merged_model.save_pretrained(output_dir)\n",
    "# tokenizer.save_pretrained(output_dir)\n",
    "\n",
    "# print(f\"Merged model saved to {output_dir}\")"
   ]
  },
  {
   "cell_type": "code",
   "execution_count": null,
   "metadata": {},
   "outputs": [],
   "source": []
  }
 ],
 "metadata": {
  "kernelspec": {
   "display_name": "flash",
   "language": "python",
   "name": "python3"
  },
  "language_info": {
   "codemirror_mode": {
    "name": "ipython",
    "version": 3
   },
   "file_extension": ".py",
   "mimetype": "text/x-python",
   "name": "python",
   "nbconvert_exporter": "python",
   "pygments_lexer": "ipython3",
   "version": "3.11.9"
  }
 },
 "nbformat": 4,
 "nbformat_minor": 4
}
