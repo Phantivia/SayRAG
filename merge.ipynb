{
 "cells": [
  {
   "cell_type": "code",
   "execution_count": null,
   "metadata": {},
   "outputs": [],
   "source": [
    "from transformers import AutoModelForCausalLM, AutoTokenizer\n",
    "from peft import PeftModel\n",
    "import torch\n",
    "\n",
    "import os\n",
    "\n",
    "os.environ['CUDA_VISIBLE_DEVICES'] = \"5\"\n",
    "\n",
    "base_model_name = \"mistralai/Mistral-7B-Instruct-v0.2\"\n",
    "base_model = AutoModelForCausalLM.from_pretrained(base_model_name)\n",
    "tokenizer = AutoTokenizer.from_pretrained(base_model_name)\n",
    "\n",
    "# Step 2: Add special token\n",
    "special_tokens_dict = {'additional_special_tokens': ['<pad>']}\n",
    "num_added_toks = tokenizer.add_special_tokens(special_tokens_dict)\n",
    "\n",
    "# Resize the model embeddings to accommodate the new token\n",
    "base_model.resize_token_embeddings(len(tokenizer))\n",
    "\n",
    "# Step 3: Load local LoRA model\n",
    "lora_model_path = \"/shared/data3/yichi9/Mistral-7B-Instruct-v0.2-sayself-question\"\n",
    "lora_model = PeftModel.from_pretrained(base_model, lora_model_path)\n",
    "\n",
    "# Step 4: Merge models\n",
    "# This step involves merging the weights of the base model with the LoRA model\n",
    "base_model = lora_model.merge_and_unload()\n",
    "\n",
    "# Step 5: Save the merged model\n",
    "output_path = \"/shared/data3/yichi9/Mistral-7B-Instruct-v0.2-sayself-question-full\"\n",
    "base_model.save_pretrained(output_path)\n",
    "tokenizer.save_pretrained(output_path)\n",
    "\n",
    "print(\"Model merged and saved to\", output_path)"
   ]
  }
 ],
 "metadata": {
  "kernelspec": {
   "display_name": "flash",
   "language": "python",
   "name": "python3"
  },
  "language_info": {
   "codemirror_mode": {
    "name": "ipython",
    "version": 3
   },
   "file_extension": ".py",
   "mimetype": "text/x-python",
   "name": "python",
   "nbconvert_exporter": "python",
   "pygments_lexer": "ipython3",
   "version": "3.9.20"
  }
 },
 "nbformat": 4,
 "nbformat_minor": 2
}
