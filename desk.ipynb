{
 "cells": [
  {
   "cell_type": "code",
   "execution_count": 1,
   "metadata": {},
   "outputs": [
    {
     "name": "stderr",
     "output_type": "stream",
     "text": [
      "/shared/data3/yichi9/anaconda3/envs/flash/lib/python3.9/site-packages/tqdm/auto.py:21: TqdmWarning: IProgress not found. Please update jupyter and ipywidgets. See https://ipywidgets.readthedocs.io/en/stable/user_install.html\n",
      "  from .autonotebook import tqdm as notebook_tqdm\n"
     ]
    }
   ],
   "source": [
    "from flashrag.config import Config\n",
    "import os\n",
    "\n",
    "reflection_path = '/shared/data3/yichi9/hotpot_dev_reflections.jsonl'\n",
    "\n",
    "config = Config(config_file_path=\"./hotpotqa.yaml\")\n",
    "os.environ['CUDA_VISIBLE_DEVICES'] = \"6,\"\n",
    "\n",
    "from flashrag.utils import get_dataset\n",
    "dataset = get_dataset(config)"
   ]
  },
  {
   "cell_type": "code",
   "execution_count": 2,
   "metadata": {},
   "outputs": [],
   "source": [
    "import json\n",
    "LOG_FILE = 'sayrag_early_results.jsonl'\n",
    "def write_dict_to_jsonl(data_dict, file_path = LOG_FILE):\n",
    "    \"\"\"\n",
    "    将一个字典写入到指定的JSON Lines文件中。\n",
    "\n",
    "    :param file_path: JSONL文件的路径\n",
    "    :param data_dict: 要写入的字典\n",
    "    \"\"\"\n",
    "    if not isinstance(data_dict, dict):\n",
    "        raise ValueError(\"data_dict必须是一个字典\")\n",
    "\n",
    "    with open(file_path, 'a', encoding='utf-8') as f:\n",
    "        json_line = json.dumps(data_dict, ensure_ascii=False)\n",
    "        f.write(json_line + '\\n')"
   ]
  },
  {
   "cell_type": "code",
   "execution_count": 3,
   "metadata": {},
   "outputs": [
    {
     "name": "stderr",
     "output_type": "stream",
     "text": [
      "2024-11-16 10:54:31,120\tINFO util.py:154 -- Missing packages: ['ipywidgets']. Run `pip install -U ipywidgets`, then restart the notebook server for rich notebook output.\n"
     ]
    },
    {
     "name": "stdout",
     "output_type": "stream",
     "text": [
      "INFO 11-16 10:54:32 llm_engine.py:226] Initializing an LLM engine (v0.6.1.dev238+ge2c6e0a82) with config: model='mistralai/Mistral-7B-Instruct-v0.2', speculative_config=None, tokenizer='mistralai/Mistral-7B-Instruct-v0.2', skip_tokenizer_init=False, tokenizer_mode=auto, revision=None, override_neuron_config=None, rope_scaling=None, rope_theta=None, tokenizer_revision=None, trust_remote_code=False, dtype=torch.bfloat16, max_seq_len=32768, download_dir=None, load_format=LoadFormat.AUTO, tensor_parallel_size=1, pipeline_parallel_size=1, disable_custom_all_reduce=False, quantization=None, enforce_eager=False, kv_cache_dtype=auto, quantization_param_path=None, device_config=cuda, decoding_config=DecodingConfig(guided_decoding_backend='outlines'), observability_config=ObservabilityConfig(otlp_traces_endpoint=None, collect_model_forward_time=False, collect_model_execute_time=False), seed=0, served_model_name=mistralai/Mistral-7B-Instruct-v0.2, use_v2_block_manager=False, num_scheduler_steps=1, multi_step_stream_outputs=False, enable_prefix_caching=False, use_async_output_proc=True, use_cached_outputs=False, mm_processor_kwargs=None)\n"
     ]
    },
    {
     "name": "stderr",
     "output_type": "stream",
     "text": [
      "/shared/data3/yichi9/anaconda3/envs/flash/lib/python3.9/site-packages/vllm/transformers_utils/tokenizer_group/tokenizer_group.py:23: FutureWarning: It is strongly recommended to run mistral models with `--tokenizer_mode \"mistral\"` to ensure correct encoding and decoding.\n",
      "  self.tokenizer = get_tokenizer(self.tokenizer_id, **tokenizer_config)\n"
     ]
    },
    {
     "name": "stdout",
     "output_type": "stream",
     "text": [
      "INFO 11-16 10:54:33 model_runner.py:1014] Starting to load model mistralai/Mistral-7B-Instruct-v0.2...\n",
      "INFO 11-16 10:54:33 weight_utils.py:242] Using model weights format ['*.safetensors']\n"
     ]
    },
    {
     "name": "stderr",
     "output_type": "stream",
     "text": [
      "Loading safetensors checkpoint shards:   0% Completed | 0/3 [00:00<?, ?it/s]\n",
      "Loading safetensors checkpoint shards:  33% Completed | 1/3 [00:00<00:01,  1.26it/s]\n",
      "Loading safetensors checkpoint shards:  67% Completed | 2/3 [00:01<00:00,  1.06it/s]\n",
      "Loading safetensors checkpoint shards: 100% Completed | 3/3 [00:02<00:00,  1.02it/s]\n",
      "Loading safetensors checkpoint shards: 100% Completed | 3/3 [00:02<00:00,  1.05it/s]\n",
      "\n"
     ]
    },
    {
     "name": "stdout",
     "output_type": "stream",
     "text": [
      "INFO 11-16 10:54:37 model_runner.py:1025] Loading model weights took 13.4966 GB\n",
      "INFO 11-16 10:54:42 gpu_executor.py:122] # GPU blocks: 11682, # CPU blocks: 2048\n",
      "INFO 11-16 10:54:44 model_runner.py:1329] Capturing the model for CUDA graphs. This may lead to unexpected consequences if the model is not static. To run the model in eager mode, set 'enforce_eager=True' or use '--enforce-eager' in the CLI.\n",
      "INFO 11-16 10:54:44 model_runner.py:1333] CUDA graphs can take additional 1~3 GiB memory per GPU. If you are running out of memory, consider decreasing `gpu_memory_utilization` or enforcing eager mode. You can also reduce the `max_num_seqs` as needed to decrease memory usage.\n",
      "INFO 11-16 10:54:57 model_runner.py:1456] Graph capturing finished in 13 secs.\n"
     ]
    }
   ],
   "source": [
    "from sayrag import SayRAGPipeline\n",
    "dataset = get_dataset(config)\n",
    "pipeline = SayRAGPipeline(config)"
   ]
  },
  {
   "cell_type": "code",
   "execution_count": 4,
   "metadata": {},
   "outputs": [
    {
     "name": "stdout",
     "output_type": "stream",
     "text": [
      "Running baseline...\n"
     ]
    },
    {
     "name": "stderr",
     "output_type": "stream",
     "text": [
      "Processed prompts: 100%|██████████| 500/500 [01:05<00:00,  7.62it/s, est. speed input: 7223.03 toks/s, output: 156.58 toks/s] \n"
     ]
    },
    {
     "name": "stdout",
     "output_type": "stream",
     "text": [
      "{'em': 0.114, 'f1': 0.2336481221322797, 'acc': 0.346, 'precision': 0.21595853271435056, 'recall': 0.38584285714285715, 'avg_input_tokens': 827.588}\n",
      "{'exp': 'baseline', 'em': 0.114, 'f1': 0.2336481221322797, 'acc': 0.346, 'precision': 0.21595853271435056, 'recall': 0.38584285714285715, 'avg_input_tokens': 827.588}\n"
     ]
    }
   ],
   "source": [
    "exp = 'baseline'\n",
    "print(f\"Running {exp}...\")\n",
    "filled_dataset = pipeline.run(\n",
    "    dataset=dataset['dev'],\n",
    "    reflection_path=reflection_path,\n",
    "    augument_ratio=0.0,\n",
    "    min_confidence_run_naive=114514, \n",
    "    min_confidence_drop_reflection=100, \n",
    ")\n",
    "\n",
    "eval_result = pipeline.evaluator.evaluate(filled_dataset)\n",
    "eval_result = {\n",
    "    'exp': exp,\n",
    "    **eval_result,\n",
    "}\n",
    "\n",
    "print(eval_result)\n",
    "write_dict_to_jsonl(eval_result)"
   ]
  },
  {
   "cell_type": "code",
   "execution_count": 12,
   "metadata": {},
   "outputs": [
    {
     "name": "stdout",
     "output_type": "stream",
     "text": [
      "Running baseline...\n"
     ]
    },
    {
     "name": "stderr",
     "output_type": "stream",
     "text": [
      "Processed prompts: 100%|██████████| 500/500 [01:04<00:00,  7.75it/s, est. speed input: 7302.25 toks/s, output: 156.69 toks/s] \n"
     ]
    },
    {
     "name": "stdout",
     "output_type": "stream",
     "text": [
      "{'em': 0.128, 'f1': 0.24722293031308779, 'acc': 0.378, 'precision': 0.23108117968651368, 'recall': 0.4105888888888888, 'avg_input_tokens': 822.522}\n",
      "{'exp': 'baseline', 'em': 0.128, 'f1': 0.24722293031308779, 'acc': 0.378, 'precision': 0.23108117968651368, 'recall': 0.4105888888888888, 'avg_input_tokens': 822.522}\n"
     ]
    }
   ],
   "source": [
    "exp = 'baseline'\n",
    "print(f\"Running {exp}...\")\n",
    "filled_dataset = pipeline.run(\n",
    "    dataset=dataset['dev'],\n",
    "    reflection_path=reflection_path,\n",
    "    augument_ratio=0.8,\n",
    "    min_confidence_run_naive=114514, \n",
    "    min_confidence_drop_reflection=10, \n",
    ")\n",
    "\n",
    "eval_result = pipeline.evaluator.evaluate(filled_dataset)\n",
    "eval_result = {\n",
    "    'exp': exp,\n",
    "    **eval_result,\n",
    "}\n",
    "\n",
    "print(eval_result)\n",
    "write_dict_to_jsonl(eval_result)"
   ]
  }
 ],
 "metadata": {
  "kernelspec": {
   "display_name": "flash",
   "language": "python",
   "name": "python3"
  },
  "language_info": {
   "codemirror_mode": {
    "name": "ipython",
    "version": 3
   },
   "file_extension": ".py",
   "mimetype": "text/x-python",
   "name": "python",
   "nbconvert_exporter": "python",
   "pygments_lexer": "ipython3",
   "version": "3.9.20"
  }
 },
 "nbformat": 4,
 "nbformat_minor": 2
}
