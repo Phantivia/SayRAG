{
 "cells": [
  {
   "cell_type": "code",
   "execution_count": null,
   "metadata": {},
   "outputs": [],
   "source": [
    "from flashrag.config import Config\n",
    "import os\n",
    "os.environ['CUDA_VISIBLE_DEVICES'] = \"5,\"\n",
    "config = Config(config_file_path=\"hotpotqa_baseline.yaml\")\n",
    "\n",
    "from flashrag.utils import get_dataset\n",
    "dataset = get_dataset(config)"
   ]
  },
  {
   "cell_type": "code",
   "execution_count": null,
   "metadata": {},
   "outputs": [],
   "source": [
    "from sayrag import generate_reflections\n",
    "from vllm import LLM\n",
    "\n",
    "reflection_path = 'test_reflections.jsonl'\n",
    "\n",
    "if not os.path.isfile(reflection_path):\n",
    "\n",
    "    llm = LLM(model=\"/shared/data3/yichi9/Mistral-7B-Instruct-v0.2-sayself\", \n",
    "            max_model_len=2048,\n",
    "            enable_lora=False,\n",
    "            gpu_memory_utilization=0.7 )\n",
    "\n",
    "    generate_reflections(llm, \n",
    "                        dataset, split='dev', key='question',\n",
    "                        output='test_reflections.jsonl')\n",
    "\n",
    "else:\n",
    "    print(\"We found the reflection file!\")"
   ]
  },
  {
   "cell_type": "code",
   "execution_count": null,
   "metadata": {},
   "outputs": [
    {
     "ename": "",
     "evalue": "",
     "output_type": "error",
     "traceback": [
      "\u001b[1;31mFailed to restart the Kernel. \n",
      "\u001b[1;31mENOSPC: no space left on device, close. \n",
      "\u001b[1;31mView Jupyter <a href='command:jupyter.viewOutput'>log</a> for further details."
     ]
    }
   ],
   "source": [
    "from sayrag import SayRAGPipeline\n",
    "all_split = get_dataset(config)\n",
    "pipeline = SayRAGPipeline(config)"
   ]
  },
  {
   "cell_type": "code",
   "execution_count": null,
   "metadata": {},
   "outputs": [],
   "source": [
    "pipeline.run(\n",
    "    dataset=dataset['dev'],\n",
    "    reflection_path=reflection_path,\n",
    "    ratio_augumented=1.0,\n",
    "    min_naive_confidence=100,\n",
    "    add_query_to_reflection=True,\n",
    ")"
   ]
  }
 ],
 "metadata": {
  "kernelspec": {
   "display_name": "flash",
   "language": "python",
   "name": "python3"
  },
  "language_info": {
   "codemirror_mode": {
    "name": "ipython",
    "version": 3
   },
   "file_extension": ".py",
   "mimetype": "text/x-python",
   "name": "python",
   "nbconvert_exporter": "python",
   "pygments_lexer": "ipython3",
   "version": "3.11.9"
  }
 },
 "nbformat": 4,
 "nbformat_minor": 2
}
